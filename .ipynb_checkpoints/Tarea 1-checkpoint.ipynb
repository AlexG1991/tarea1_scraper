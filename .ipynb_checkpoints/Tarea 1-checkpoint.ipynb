{
 "cells": [
  {
   "cell_type": "code",
   "execution_count": 66,
   "metadata": {},
   "outputs": [],
   "source": []
  },
  {
   "cell_type": "code",
   "execution_count": 82,
   "metadata": {},
   "outputs": [],
   "source": [
    "#Leer archivo\n",
    "import json\n",
    "import re\n",
    "from collections import Counter\n",
    "with open('result2.json') as json_file:\n",
    "    data = json.load(json_file)"
   ]
  },
  {
   "cell_type": "code",
   "execution_count": 83,
   "metadata": {},
   "outputs": [
    {
     "name": "stdout",
     "output_type": "stream",
     "text": [
      "Numero de tokens:100\n",
      "Vocabulario:64\n"
     ]
    }
   ],
   "source": [
    "#100\n",
    "vocabulario = set()\n",
    "tokens = []\n",
    "max_tokens = 100\n",
    "current_tokens = 0\n",
    "\n",
    "for document in data:\n",
    "    if(current_tokens < max_tokens):\n",
    "        text = document['body']['paragraph']\n",
    "        text_lower = text.lower()\n",
    "        words = re.split('\\W+', text_lower)\n",
    "        for word in words:\n",
    "            if(current_tokens < max_tokens):\n",
    "                tokens.append(word)\n",
    "                vocabulario.add(word)\n",
    "                current_tokens = current_tokens + 1\n",
    "            else:\n",
    "                break\n",
    "    else:\n",
    "        break\n",
    "\n",
    "vocabulario_100 = len(vocabulario)\n",
    "        \n",
    "counts = Counter(palabras)\n",
    "print(\"Numero de tokens:\" + str(len(tokens)))\n",
    "print(\"Vocabulario:\" + str(len(vocabulario)))"
   ]
  },
  {
   "cell_type": "code",
   "execution_count": 84,
   "metadata": {},
   "outputs": [
    {
     "name": "stdout",
     "output_type": "stream",
     "text": [
      "Numero de tokens:1000\n",
      "Vocabulario:401\n"
     ]
    }
   ],
   "source": [
    "#1000\n",
    "vocabulario = set()\n",
    "tokens = []\n",
    "max_tokens = 1000\n",
    "current_tokens = 0\n",
    "\n",
    "for document in data:\n",
    "    if(current_tokens < max_tokens):\n",
    "        text = document['body']['paragraph']\n",
    "        text_lower = text.lower()\n",
    "        words = re.split('\\W+', text_lower)\n",
    "        for word in words:\n",
    "            if(current_tokens < max_tokens):\n",
    "                tokens.append(word)\n",
    "                vocabulario.add(word)\n",
    "                current_tokens = current_tokens + 1\n",
    "            else:\n",
    "                break\n",
    "    else:\n",
    "        break\n",
    "\n",
    "vocabulario_1000 = len(vocabulario)\n",
    "        \n",
    "counts = Counter(palabras)\n",
    "print(\"Numero de tokens:\" + str(len(tokens)))\n",
    "print(\"Vocabulario:\" + str(len(vocabulario)))"
   ]
  },
  {
   "cell_type": "code",
   "execution_count": 85,
   "metadata": {},
   "outputs": [
    {
     "name": "stdout",
     "output_type": "stream",
     "text": [
      "Numero de tokens:10000\n",
      "Vocabulario:2597\n"
     ]
    }
   ],
   "source": [
    "#10000\n",
    "vocabulario = set()\n",
    "tokens = []\n",
    "max_tokens = 10000\n",
    "current_tokens = 0\n",
    "\n",
    "for document in data:\n",
    "    if(current_tokens < max_tokens):\n",
    "        text = document['body']['paragraph']\n",
    "        text_lower = text.lower()\n",
    "        words = re.split('\\W+', text_lower)\n",
    "        for word in words:\n",
    "            if(current_tokens < max_tokens):\n",
    "                tokens.append(word)\n",
    "                vocabulario.add(word)\n",
    "                current_tokens = current_tokens + 1\n",
    "            else:\n",
    "                break\n",
    "    else:\n",
    "        break\n",
    "\n",
    "vocabulario_10000 = len(vocabulario)\n",
    "        \n",
    "counts = Counter(palabras)\n",
    "print(\"Numero de tokens:\" + str(len(tokens)))\n",
    "print(\"Vocabulario:\" + str(len(vocabulario)))"
   ]
  },
  {
   "cell_type": "code",
   "execution_count": 95,
   "metadata": {},
   "outputs": [
    {
     "name": "stdout",
     "output_type": "stream",
     "text": [
      "Numero de tokens:5000\n",
      "Vocabulario:1487\n"
     ]
    }
   ],
   "source": [
    "#5000\n",
    "vocabulario = set()\n",
    "tokens = []\n",
    "max_tokens = 5000\n",
    "current_tokens = 0\n",
    "\n",
    "for document in data:\n",
    "    if(current_tokens < max_tokens):\n",
    "        text = document['body']['paragraph']\n",
    "        text_lower = text.lower()\n",
    "        words = re.split('\\W+', text_lower)\n",
    "        for word in words:\n",
    "            if(current_tokens < max_tokens):\n",
    "                tokens.append(word)\n",
    "                vocabulario.add(word)\n",
    "                current_tokens = current_tokens + 1\n",
    "            else:\n",
    "                break\n",
    "    else:\n",
    "        break\n",
    "\n",
    "vocabulario_5000 = len(vocabulario)\n",
    "        \n",
    "counts = Counter(palabras)\n",
    "print(\"Numero de tokens:\" + str(len(tokens)))\n",
    "print(\"Vocabulario:\" + str(len(vocabulario)))"
   ]
  },
  {
   "cell_type": "code",
   "execution_count": 86,
   "metadata": {},
   "outputs": [
    {
     "name": "stdout",
     "output_type": "stream",
     "text": [
      "Numero de tokens:100000\n",
      "Vocabulario:10922\n"
     ]
    }
   ],
   "source": [
    "#100000\n",
    "vocabulario = set()\n",
    "tokens = []\n",
    "max_tokens = 100000\n",
    "current_tokens = 0\n",
    "\n",
    "for document in data:\n",
    "    if(current_tokens < max_tokens):\n",
    "        text = document['body']['paragraph']\n",
    "        text_lower = text.lower()\n",
    "        words = re.split('\\W+', text_lower)\n",
    "        for word in words:\n",
    "            if(current_tokens < max_tokens):\n",
    "                tokens.append(word)\n",
    "                vocabulario.add(word)\n",
    "                current_tokens = current_tokens + 1\n",
    "            else:\n",
    "                break\n",
    "    else:\n",
    "        break\n",
    "\n",
    "vocabulario_100000 = len(vocabulario)\n",
    "        \n",
    "counts = Counter(palabras)\n",
    "print(\"Numero de tokens:\" + str(len(tokens)))\n",
    "print(\"Vocabulario:\" + str(len(vocabulario)))"
   ]
  },
  {
   "cell_type": "code",
   "execution_count": 92,
   "metadata": {},
   "outputs": [
    {
     "name": "stdout",
     "output_type": "stream",
     "text": [
      "Numero de tokens:250000\n",
      "Vocabulario:18468\n"
     ]
    }
   ],
   "source": [
    "#250000\n",
    "vocabulario = set()\n",
    "tokens = []\n",
    "max_tokens = 250000\n",
    "current_tokens = 0\n",
    "\n",
    "for document in data:\n",
    "    if(current_tokens < max_tokens):\n",
    "        text = document['body']['paragraph']\n",
    "        text_lower = text.lower()\n",
    "        words = re.split('\\W+', text_lower)\n",
    "        for word in words:\n",
    "            if(current_tokens < max_tokens):\n",
    "                tokens.append(word)\n",
    "                vocabulario.add(word)\n",
    "                current_tokens = current_tokens + 1\n",
    "            else:\n",
    "                break\n",
    "    else:\n",
    "        break\n",
    "\n",
    "vocabulario_250000 = len(vocabulario)\n",
    "        \n",
    "counts = Counter(palabras)\n",
    "print(\"Numero de tokens:\" + str(len(tokens)))\n",
    "print(\"Vocabulario:\" + str(len(vocabulario)))"
   ]
  },
  {
   "cell_type": "code",
   "execution_count": 88,
   "metadata": {},
   "outputs": [
    {
     "name": "stdout",
     "output_type": "stream",
     "text": [
      "Numero de tokens:500000\n",
      "Vocabulario:25747\n"
     ]
    }
   ],
   "source": [
    "#500000\n",
    "vocabulario = set()\n",
    "tokens = []\n",
    "max_tokens = 500000\n",
    "current_tokens = 0\n",
    "\n",
    "for document in data:\n",
    "    if(current_tokens < max_tokens):\n",
    "        text = document['body']['paragraph']\n",
    "        text_lower = text.lower()\n",
    "        words = re.split('\\W+', text_lower)\n",
    "        for word in words:\n",
    "            if(current_tokens < max_tokens):\n",
    "                tokens.append(word)\n",
    "                vocabulario.add(word)\n",
    "                current_tokens = current_tokens + 1\n",
    "            else:\n",
    "                break\n",
    "    else:\n",
    "        break\n",
    "\n",
    "vocabulario_500000 = len(vocabulario)\n",
    "        \n",
    "counts = Counter(palabras)\n",
    "print(\"Numero de tokens:\" + str(len(tokens)))\n",
    "print(\"Vocabulario:\" + str(len(vocabulario)))"
   ]
  },
  {
   "cell_type": "code",
   "execution_count": 89,
   "metadata": {},
   "outputs": [
    {
     "name": "stdout",
     "output_type": "stream",
     "text": [
      "Numero de tokens:750000\n",
      "Vocabulario:31574\n"
     ]
    }
   ],
   "source": [
    "#750000\n",
    "vocabulario = set()\n",
    "tokens = []\n",
    "max_tokens = 750000\n",
    "current_tokens = 0\n",
    "\n",
    "for document in data:\n",
    "    if(current_tokens < max_tokens):\n",
    "        text = document['body']['paragraph']\n",
    "        text_lower = text.lower()\n",
    "        words = re.split('\\W+', text_lower)\n",
    "        for word in words:\n",
    "            if(current_tokens < max_tokens):\n",
    "                tokens.append(word)\n",
    "                vocabulario.add(word)\n",
    "                current_tokens = current_tokens + 1\n",
    "            else:\n",
    "                break\n",
    "    else:\n",
    "        break\n",
    "\n",
    "vocabulario_750000 = len(vocabulario)\n",
    "        \n",
    "counts = Counter(palabras)\n",
    "print(\"Numero de tokens:\" + str(len(tokens)))\n",
    "print(\"Vocabulario:\" + str(len(vocabulario)))"
   ]
  },
  {
   "cell_type": "code",
   "execution_count": 90,
   "metadata": {},
   "outputs": [
    {
     "name": "stdout",
     "output_type": "stream",
     "text": [
      "Numero de tokens:1000000\n",
      "Vocabulario:36194\n"
     ]
    }
   ],
   "source": [
    "#1000000\n",
    "vocabulario = set()\n",
    "tokens = []\n",
    "max_tokens = 1000000\n",
    "current_tokens = 0\n",
    "\n",
    "for document in data:\n",
    "    if(current_tokens < max_tokens):\n",
    "        text = document['body']['paragraph']\n",
    "        text_lower = text.lower()\n",
    "        words = re.split('\\W+', text_lower)\n",
    "        for word in words:\n",
    "            if(current_tokens < max_tokens):\n",
    "                tokens.append(word)\n",
    "                vocabulario.add(word)\n",
    "                current_tokens = current_tokens + 1\n",
    "            else:\n",
    "                break\n",
    "    else:\n",
    "        break\n",
    "\n",
    "vocabulario_1000000 = len(vocabulario)\n",
    "        \n",
    "counts = Counter(palabras)\n",
    "print(\"Numero de tokens:\" + str(len(tokens)))\n",
    "print(\"Vocabulario:\" + str(len(vocabulario)))"
   ]
  },
  {
   "cell_type": "code",
   "execution_count": 96,
   "metadata": {},
   "outputs": [
    {
     "data": {
      "text/html": [
       "<div>\n",
       "<style scoped>\n",
       "    .dataframe tbody tr th:only-of-type {\n",
       "        vertical-align: middle;\n",
       "    }\n",
       "\n",
       "    .dataframe tbody tr th {\n",
       "        vertical-align: top;\n",
       "    }\n",
       "\n",
       "    .dataframe thead th {\n",
       "        text-align: right;\n",
       "    }\n",
       "</style>\n",
       "<table border=\"1\" class=\"dataframe\">\n",
       "  <thead>\n",
       "    <tr style=\"text-align: right;\">\n",
       "      <th></th>\n",
       "      <th>Rubro</th>\n",
       "      <th>Vocabulario</th>\n",
       "    </tr>\n",
       "  </thead>\n",
       "  <tbody>\n",
       "    <tr>\n",
       "      <td>0</td>\n",
       "      <td>100</td>\n",
       "      <td>64</td>\n",
       "    </tr>\n",
       "    <tr>\n",
       "      <td>1</td>\n",
       "      <td>1K</td>\n",
       "      <td>401</td>\n",
       "    </tr>\n",
       "    <tr>\n",
       "      <td>2</td>\n",
       "      <td>5K</td>\n",
       "      <td>1487</td>\n",
       "    </tr>\n",
       "    <tr>\n",
       "      <td>3</td>\n",
       "      <td>10K</td>\n",
       "      <td>2597</td>\n",
       "    </tr>\n",
       "    <tr>\n",
       "      <td>4</td>\n",
       "      <td>100K</td>\n",
       "      <td>10922</td>\n",
       "    </tr>\n",
       "    <tr>\n",
       "      <td>5</td>\n",
       "      <td>250K</td>\n",
       "      <td>18468</td>\n",
       "    </tr>\n",
       "    <tr>\n",
       "      <td>6</td>\n",
       "      <td>500K</td>\n",
       "      <td>25747</td>\n",
       "    </tr>\n",
       "    <tr>\n",
       "      <td>7</td>\n",
       "      <td>750K</td>\n",
       "      <td>31574</td>\n",
       "    </tr>\n",
       "    <tr>\n",
       "      <td>8</td>\n",
       "      <td>1M</td>\n",
       "      <td>36194</td>\n",
       "    </tr>\n",
       "  </tbody>\n",
       "</table>\n",
       "</div>"
      ],
      "text/plain": [
       "  Rubro  Vocabulario\n",
       "0   100           64\n",
       "1    1K          401\n",
       "2    5K         1487\n",
       "3   10K         2597\n",
       "4  100K        10922\n",
       "5  250K        18468\n",
       "6  500K        25747\n",
       "7  750K        31574\n",
       "8    1M        36194"
      ]
     },
     "execution_count": 96,
     "metadata": {},
     "output_type": "execute_result"
    }
   ],
   "source": [
    "#Dataframe de resultados de repetidas\n",
    "import pandas as pd\n",
    "resultados = pd.DataFrame()\n",
    "resultados['Rubro'] = ['100','1K','5K','10K','100K','250K','500K','750K','1M']\n",
    "resultados['Vocabulario'] = [vocabulario_100,vocabulario_1000,vocabulario_5000,vocabulario_10000,vocabulario_100000,vocabulario_250000,vocabulario_500000,vocabulario_750000,vocabulario_1000000]\n",
    "resultados.set_index('Rubro')\n",
    "resultados"
   ]
  },
  {
   "cell_type": "code",
   "execution_count": 97,
   "metadata": {},
   "outputs": [
    {
     "data": {
      "text/plain": [
       "<matplotlib.axes._subplots.AxesSubplot at 0x1948a609d48>"
      ]
     },
     "execution_count": 97,
     "metadata": {},
     "output_type": "execute_result"
    },
    {
     "data": {
      "image/png": "[encoded data removed]",
      "text/plain": [
       "<Figure size 432x288 with 1 Axes>"
      ]
     },
     "metadata": {
      "needs_background": "light"
     },
     "output_type": "display_data"
    }
   ],
   "source": [
    "#Graficar resultados\n",
    "resultados.plot(\"Rubro\",\"Vocabulario\",kind='bar',title=\"Cantidad de vocabulario por Tokens\")"
   ]
  }
 ],
 "metadata": {
  "kernelspec": {
   "display_name": "Python 3",
   "language": "python",
   "name": "python3"
  },
  "language_info": {
   "codemirror_mode": {
    "name": "ipython",
    "version": 3
   },
   "file_extension": ".py",
   "mimetype": "text/x-python",
   "name": "python",
   "nbconvert_exporter": "python",
   "pygments_lexer": "ipython3",
   "version": "3.7.4"
  }
 },
 "nbformat": 4,
 "nbformat_minor": 4
}
