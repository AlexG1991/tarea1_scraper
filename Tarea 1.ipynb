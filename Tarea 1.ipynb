{
 "cells": [
  {
   "cell_type": "markdown",
   "metadata": {},
   "source": [
    "# Tarea 1\n",
    "\n",
    "Para poder comenzar, se tiene que clonar el repositorio https://github.com/AlexG1991/tarea1_scraper, en donde se encuentra el proyecto de scrapper para poder obtener textos de artículos de wikipedia y con esto dar como resultado el insumo para el análisis que es el archivo \"result.json\", que es donde se encuentran guardados todos los artículos. Para afectos prácticos, en el repositorio ya se encuentra un archivo result.json"
   ]
  },
  {
   "cell_type": "code",
   "execution_count": 41,
   "metadata": {},
   "outputs": [
    {
     "name": "stderr",
     "output_type": "stream",
     "text": [
      "[nltk_data] Downloading package wordnet to\n",
      "[nltk_data]     C:\\Users\\rgarciad\\AppData\\Roaming\\nltk_data...\n",
      "[nltk_data]   Package wordnet is already up-to-date!\n"
     ]
    }
   ],
   "source": [
    "#Leer archivo\n",
    "import json\n",
    "import re\n",
    "import nltk\n",
    "nltk.download('wordnet')\n",
    "from nltk.stem import PorterStemmer\n",
    "from nltk.stem.wordnet import WordNetLemmatizer\n",
    "from collections import Counter\n",
    "\n",
    "with open('result.json') as json_file:\n",
    "    data = json.load(json_file)"
   ]
  },
  {
   "cell_type": "code",
   "execution_count": 44,
   "metadata": {},
   "outputs": [],
   "source": [
    "def calculate_vocabulary(num_tokens):\n",
    "    vocabulario = set()\n",
    "    stems = set()\n",
    "    lems = set()\n",
    "    tokens = []\n",
    "    max_tokens = num_tokens\n",
    "    current_tokens = 0\n",
    "\n",
    "    for document in data:\n",
    "        if(current_tokens < max_tokens):\n",
    "            text = document['body']['paragraph']\n",
    "            text_lower = text.lower()\n",
    "            words = re.split('\\W+', text_lower)\n",
    "            for word in words:\n",
    "                if(current_tokens < max_tokens):\n",
    "                    tokens.append(word)\n",
    "                    vocabulario.add(word)\n",
    "                    current_tokens = current_tokens + 1\n",
    "                else:\n",
    "                    break\n",
    "        else:\n",
    "            break\n",
    "\n",
    "    #vocabulario palabras      \n",
    "    count_palabras = len(vocabulario)\n",
    "\n",
    "    #vocabulario stems\n",
    "    ps = PorterStemmer()\n",
    "    for token in tokens:\n",
    "        stems.add(ps.stem(token))\n",
    "\n",
    "    count_stems = len(stems)\n",
    "\n",
    "    #vocabulario lemas\n",
    "\n",
    "    lemmatizer = WordNetLemmatizer()\n",
    "    for token in tokens:\n",
    "        lems.add(lemmatizer.lemmatize(token))\n",
    "\n",
    "    count_lems = len(lems)\n",
    "\n",
    "    counts = Counter(tokens)\n",
    "\n",
    "    return count_palabras,count_stems,count_lems"
   ]
  },
  {
   "cell_type": "code",
   "execution_count": 51,
   "metadata": {},
   "outputs": [
    {
     "name": "stdout",
     "output_type": "stream",
     "text": [
      "36194\n"
     ]
    }
   ],
   "source": [
    "#calculate values\n",
    "count_palabras_100,count_stems_100,count_lems_100 = calculate_vocabulary(100)\n",
    "count_palabras_1000,count_stems_1000,count_lems_1000 = calculate_vocabulary(1000)\n",
    "count_palabras_5000,count_stems_5000,count_lems_5000 = calculate_vocabulary(5000)\n",
    "count_palabras_10000,count_stems_10000,count_lems_10000 = calculate_vocabulary(10000)\n",
    "count_palabras_100000,count_stems_100000,count_lems_100000 = calculate_vocabulary(100000)\n",
    "count_palabras_250000,count_stems_250000,count_lems_250000 = calculate_vocabulary(250000)\n",
    "count_palabras_500000,count_stems_500000,count_lems_500000 = calculate_vocabulary(500000)\n",
    "count_palabras_750000,count_stems_750000,count_lems_750000 = calculate_vocabulary(750000)\n",
    "count_palabras_1000000,count_stems_1000000,count_lems_1000000 = calculate_vocabulary(1000000)\n",
    "print(count_palabras_1000000)"
   ]
  },
  {
   "cell_type": "code",
   "execution_count": 57,
   "metadata": {},
   "outputs": [
    {
     "data": {
      "text/html": [
       "<div>\n",
       "<style scoped>\n",
       "    .dataframe tbody tr th:only-of-type {\n",
       "        vertical-align: middle;\n",
       "    }\n",
       "\n",
       "    .dataframe tbody tr th {\n",
       "        vertical-align: top;\n",
       "    }\n",
       "\n",
       "    .dataframe thead th {\n",
       "        text-align: right;\n",
       "    }\n",
       "</style>\n",
       "<table border=\"1\" class=\"dataframe\">\n",
       "  <thead>\n",
       "    <tr style=\"text-align: right;\">\n",
       "      <th></th>\n",
       "      <th>Rubro</th>\n",
       "      <th>Words</th>\n",
       "      <th>Stems</th>\n",
       "      <th>Lems</th>\n",
       "    </tr>\n",
       "  </thead>\n",
       "  <tbody>\n",
       "    <tr>\n",
       "      <td>0</td>\n",
       "      <td>100</td>\n",
       "      <td>64</td>\n",
       "      <td>64</td>\n",
       "      <td>64</td>\n",
       "    </tr>\n",
       "    <tr>\n",
       "      <td>1</td>\n",
       "      <td>1K</td>\n",
       "      <td>401</td>\n",
       "      <td>375</td>\n",
       "      <td>390</td>\n",
       "    </tr>\n",
       "    <tr>\n",
       "      <td>2</td>\n",
       "      <td>5K</td>\n",
       "      <td>1487</td>\n",
       "      <td>1307</td>\n",
       "      <td>1432</td>\n",
       "    </tr>\n",
       "    <tr>\n",
       "      <td>3</td>\n",
       "      <td>10K</td>\n",
       "      <td>2597</td>\n",
       "      <td>2209</td>\n",
       "      <td>2475</td>\n",
       "    </tr>\n",
       "    <tr>\n",
       "      <td>4</td>\n",
       "      <td>100K</td>\n",
       "      <td>10922</td>\n",
       "      <td>7942</td>\n",
       "      <td>9858</td>\n",
       "    </tr>\n",
       "    <tr>\n",
       "      <td>5</td>\n",
       "      <td>250K</td>\n",
       "      <td>18468</td>\n",
       "      <td>13351</td>\n",
       "      <td>16688</td>\n",
       "    </tr>\n",
       "    <tr>\n",
       "      <td>6</td>\n",
       "      <td>500K</td>\n",
       "      <td>25747</td>\n",
       "      <td>18645</td>\n",
       "      <td>23318</td>\n",
       "    </tr>\n",
       "    <tr>\n",
       "      <td>7</td>\n",
       "      <td>750K</td>\n",
       "      <td>31574</td>\n",
       "      <td>22935</td>\n",
       "      <td>28606</td>\n",
       "    </tr>\n",
       "    <tr>\n",
       "      <td>8</td>\n",
       "      <td>1M</td>\n",
       "      <td>36194</td>\n",
       "      <td>26430</td>\n",
       "      <td>32840</td>\n",
       "    </tr>\n",
       "  </tbody>\n",
       "</table>\n",
       "</div>"
      ],
      "text/plain": [
       "  Rubro  Words  Stems   Lems\n",
       "0   100     64     64     64\n",
       "1    1K    401    375    390\n",
       "2    5K   1487   1307   1432\n",
       "3   10K   2597   2209   2475\n",
       "4  100K  10922   7942   9858\n",
       "5  250K  18468  13351  16688\n",
       "6  500K  25747  18645  23318\n",
       "7  750K  31574  22935  28606\n",
       "8    1M  36194  26430  32840"
      ]
     },
     "execution_count": 57,
     "metadata": {},
     "output_type": "execute_result"
    }
   ],
   "source": [
    "#Dataframe de resultados de repetidas\n",
    "import pandas as pd\n",
    "resultados = pd.DataFrame()\n",
    "resultados['Rubro'] = ['100','1K','5K','10K','100K','250K','500K','750K','1M']\n",
    "resultados['Words'] = [count_palabras_100,count_palabras_1000,count_palabras_5000,count_palabras_10000,count_palabras_100000,count_palabras_250000,count_palabras_500000,count_palabras_750000,count_palabras_1000000]\n",
    "resultados['Stems'] = [count_stems_100,count_stems_1000,count_stems_5000,count_stems_10000,count_stems_100000,count_stems_250000,count_stems_500000,count_stems_750000,count_stems_1000000]\n",
    "resultados['Lems'] = [count_lems_100,count_lems_1000,count_lems_5000,count_lems_10000,count_lems_100000,count_lems_250000,count_lems_500000,count_lems_750000,count_lems_1000000]\n",
    "resultados.set_index('Rubro')\n",
    "resultados"
   ]
  },
  {
   "cell_type": "code",
   "execution_count": 59,
   "metadata": {},
   "outputs": [
    {
     "data": {
      "text/plain": [
       "<matplotlib.axes._subplots.AxesSubplot at 0x1afc7f1f4c8>"
      ]
     },
     "execution_count": 59,
     "metadata": {},
     "output_type": "execute_result"
    },
    {
     "data": {
      "image/png": "[encoded data removed]",
      "text/plain": [
       "<Figure size 432x288 with 1 Axes>"
      ]
     },
     "metadata": {
      "needs_background": "light"
     },
     "output_type": "display_data"
    },
    {
     "data": {
      "image/png": "[encoded data removed]",
      "text/plain": [
       "<Figure size 432x288 with 1 Axes>"
      ]
     },
     "metadata": {
      "needs_background": "light"
     },
     "output_type": "display_data"
    },
    {
     "data": {
      "image/png": "[encoded data removed]",
      "text/plain": [
       "<Figure size 432x288 with 1 Axes>"
      ]
     },
     "metadata": {
      "needs_background": "light"
     },
     "output_type": "display_data"
    }
   ],
   "source": [
    "#Graficar resultados\n",
    "resultados.plot(\"Rubro\",\"Words\",kind='bar',title=\"Cantidad de vocabulario de palabras por Tokens\")\n",
    "resultados.plot(\"Rubro\",\"Stems\",kind='bar',title=\"Cantidad de vocabulario de Stems por Tokens\")\n",
    "resultados.plot(\"Rubro\",\"Lems\",kind='bar',title=\"Cantidad de vocabulario de Lems por Tokens\")"
   ]
  }
 ],
 "metadata": {
  "kernelspec": {
   "display_name": "Python 3",
   "language": "python",
   "name": "python3"
  },
  "language_info": {
   "codemirror_mode": {
    "name": "ipython",
    "version": 3
   },
   "file_extension": ".py",
   "mimetype": "text/x-python",
   "name": "python",
   "nbconvert_exporter": "python",
   "pygments_lexer": "ipython3",
   "version": "3.7.4"
  }
 },
 "nbformat": 4,
 "nbformat_minor": 4
}
